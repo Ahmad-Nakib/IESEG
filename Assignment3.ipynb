{
 "cells": [
  {
   "cell_type": "markdown",
   "id": "c94b1676",
   "metadata": {},
   "source": [
    "## Chapter 5"
   ]
  },
  {
   "cell_type": "markdown",
   "id": "94d878c0",
   "metadata": {},
   "source": [
    "# 5.3)\n",
    "\n",
    "dividing a random set of observations to K different groups, another approach is dividing them into relatively equal parts.\n",
    "we treat the first set as a validation, and we fit what remains into k-1 folds. we then calculate the mean square error, this is repeated k times and in every round we use a different group for validation.\n",
    "\n",
    "# b)\n",
    "\n",
    "K-fold approach is more efficient than the validation set approach when data size is small however k fold is slower which poses an issue when data is large\n",
    "\n",
    "k-fold is smaller than LOOCV in terms of variance."
   ]
  },
  {
   "cell_type": "markdown",
   "id": "c01b129c",
   "metadata": {},
   "source": [
    "# 5.8)"
   ]
  },
  {
   "cell_type": "code",
   "execution_count": 3,
   "id": "ee58075f",
   "metadata": {},
   "outputs": [],
   "source": [
    "#A)\n",
    "set.seed(1)\n",
    "x <- rnorm(100)\n",
    "y <- rnorm(100)\n",
    "y <- x - 2*x^2 + rnorm(100)"
   ]
  },
  {
   "cell_type": "code",
   "execution_count": 4,
   "id": "245fc035",
   "metadata": {},
   "outputs": [
    {
     "data": {
      "image/png": "[encoded data removed]",
      "text/plain": [
       "plot without title"
      ]
     },
     "metadata": {
      "image/png": {
       "height": 420,
       "width": 420
      }
     },
     "output_type": "display_data"
    }
   ],
   "source": [
    "#B)\n",
    "plot(x, y)"
   ]
  },
  {
   "cell_type": "code",
   "execution_count": 10,
   "id": "12b5d7b8",
   "metadata": {},
   "outputs": [
    {
     "data": {
      "text/html": [
       "6.9230555406748"
      ],
      "text/latex": [
       "6.9230555406748"
      ],
      "text/markdown": [
       "6.9230555406748"
      ],
      "text/plain": [
       "[1] 6.923056"
      ]
     },
     "metadata": {},
     "output_type": "display_data"
    },
    {
     "data": {
      "text/html": [
       "1.1281937343705"
      ],
      "text/latex": [
       "1.1281937343705"
      ],
      "text/markdown": [
       "1.1281937343705"
      ],
      "text/plain": [
       "[1] 1.128194"
      ]
     },
     "metadata": {},
     "output_type": "display_data"
    },
    {
     "data": {
      "text/html": [
       "1.08472741367438"
      ],
      "text/latex": [
       "1.08472741367438"
      ],
      "text/markdown": [
       "1.08472741367438"
      ],
      "text/plain": [
       "[1] 1.084727"
      ]
     },
     "metadata": {},
     "output_type": "display_data"
    },
    {
     "data": {
      "text/html": [
       "1.09782890398707"
      ],
      "text/latex": [
       "1.09782890398707"
      ],
      "text/markdown": [
       "1.09782890398707"
      ],
      "text/plain": [
       "[1] 1.097829"
      ]
     },
     "metadata": {},
     "output_type": "display_data"
    }
   ],
   "source": [
    "# C)\n",
    "library(boot)\n",
    "set.seed(1)\n",
    "Data <- data.frame(x, y)\n",
    "\n",
    "# reference https://stat.ethz.ch/R-manual/R-patched/library/stats/html/glm.html\n",
    "\n",
    "x1 <- glm(y ~ x)\n",
    "cv.glm(Data, x1)$delta[1]\n",
    "\n",
    "x2 <- glm(y ~ poly(x, 2))\n",
    "cv.glm(Data, x2)$delta[1]\n",
    "\n",
    "x3 <- glm(y ~ poly(x, 3))\n",
    "cv.glm(Data, x3)$delta[1]\n",
    "\n",
    "x4 <- glm(y ~ poly(x, 4))\n",
    "cv.glm(Data, x4)$delta[1]"
   ]
  },
  {
   "cell_type": "code",
   "execution_count": 12,
   "id": "cf3f5762",
   "metadata": {},
   "outputs": [
    {
     "data": {
      "text/html": [
       "6.9230555406748"
      ],
      "text/latex": [
       "6.9230555406748"
      ],
      "text/markdown": [
       "6.9230555406748"
      ],
      "text/plain": [
       "[1] 6.923056"
      ]
     },
     "metadata": {},
     "output_type": "display_data"
    },
    {
     "data": {
      "text/html": [
       "1.1281937343705"
      ],
      "text/latex": [
       "1.1281937343705"
      ],
      "text/markdown": [
       "1.1281937343705"
      ],
      "text/plain": [
       "[1] 1.128194"
      ]
     },
     "metadata": {},
     "output_type": "display_data"
    },
    {
     "data": {
      "text/html": [
       "1.08472741367438"
      ],
      "text/latex": [
       "1.08472741367438"
      ],
      "text/markdown": [
       "1.08472741367438"
      ],
      "text/plain": [
       "[1] 1.084727"
      ]
     },
     "metadata": {},
     "output_type": "display_data"
    },
    {
     "data": {
      "text/html": [
       "1.09782890398707"
      ],
      "text/latex": [
       "1.09782890398707"
      ],
      "text/markdown": [
       "1.09782890398707"
      ],
      "text/plain": [
       "[1] 1.097829"
      ]
     },
     "metadata": {},
     "output_type": "display_data"
    }
   ],
   "source": [
    "#D)\n",
    "library(boot)\n",
    "set.seed(20)\n",
    "Data <- data.frame(x, y)\n",
    "\n",
    "# reference https://stat.ethz.ch/R-manual/R-patched/library/stats/html/glm.html\n",
    "\n",
    "x1 <- glm(y ~ x)\n",
    "cv.glm(Data, x1)$delta[1]\n",
    "\n",
    "x2 <- glm(y ~ poly(x, 2))\n",
    "cv.glm(Data, x2)$delta[1]\n",
    "\n",
    "x3 <- glm(y ~ poly(x, 3))\n",
    "cv.glm(Data, x3)$delta[1]\n",
    "\n",
    "x4 <- glm(y ~ poly(x, 4))\n",
    "cv.glm(Data, x4)$delta[1]"
   ]
  },
  {
   "cell_type": "markdown",
   "id": "4aee81ea",
   "metadata": {},
   "source": [
    "# Same results"
   ]
  },
  {
   "cell_type": "code",
   "execution_count": 13,
   "id": "c511c34b",
   "metadata": {},
   "outputs": [
    {
     "data": {
      "text/plain": [
       "\n",
       "Call:\n",
       "glm(formula = y ~ poly(x, 4))\n",
       "\n",
       "Deviance Residuals: \n",
       "    Min       1Q   Median       3Q      Max  \n",
       "-2.9153  -0.5277   0.1137   0.6562   2.3045  \n",
       "\n",
       "Coefficients:\n",
       "            Estimate Std. Error t value Pr(>|t|)    \n",
       "(Intercept)  -1.4825     0.1023 -14.489  < 2e-16 ***\n",
       "poly(x, 4)1   6.3875     1.0232   6.242  1.2e-08 ***\n",
       "poly(x, 4)2 -22.8002     1.0232 -22.282  < 2e-16 ***\n",
       "poly(x, 4)3   2.1839     1.0232   2.134   0.0354 *  \n",
       "poly(x, 4)4  -1.2613     1.0232  -1.233   0.2207    \n",
       "---\n",
       "Signif. codes:  0 '***' 0.001 '**' 0.01 '*' 0.05 '.' 0.1 ' ' 1\n",
       "\n",
       "(Dispersion parameter for gaussian family taken to be 1.047015)\n",
       "\n",
       "    Null deviance: 666.475  on 99  degrees of freedom\n",
       "Residual deviance:  99.466  on 95  degrees of freedom\n",
       "AIC: 295.25\n",
       "\n",
       "Number of Fisher Scoring iterations: 2\n"
      ]
     },
     "metadata": {},
     "output_type": "display_data"
    }
   ],
   "source": [
    "#f)\n",
    "\n",
    "summary(x4)"
   ]
  },
  {
   "cell_type": "code",
   "execution_count": 15,
   "id": "6194ddb0",
   "metadata": {},
   "outputs": [],
   "source": [
    "# p-values indicate that 1st and 2nd degree are statistically significant third and fourth degree are not"
   ]
  },
  {
   "cell_type": "markdown",
   "id": "c7fc1500",
   "metadata": {},
   "source": [
    "# chapter 6"
   ]
  },
  {
   "cell_type": "markdown",
   "id": "920b4b50",
   "metadata": {},
   "source": [
    "# 6.1: \n",
    "\n",
    "A: if k = p then the RSS is smallest\n",
    "\n",
    "B: to asses the results from running the model are needed"
   ]
  },
  {
   "cell_type": "markdown",
   "id": "e3c9ee2f",
   "metadata": {},
   "source": [
    "# 6.9"
   ]
  },
  {
   "cell_type": "code",
   "execution_count": 37,
   "id": "e05a3883",
   "metadata": {},
   "outputs": [
    {
     "name": "stdout",
     "output_type": "stream",
     "text": [
      "'data.frame':\t777 obs. of  18 variables:\n",
      " $ Private    : Factor w/ 2 levels \"No\",\"Yes\": 2 2 2 2 2 2 2 2 2 2 ...\n",
      " $ Apps       : num  1660 2186 1428 417 193 ...\n",
      " $ Accept     : num  1232 1924 1097 349 146 ...\n",
      " $ Enroll     : num  721 512 336 137 55 158 103 489 227 172 ...\n",
      " $ Top10perc  : num  23 16 22 60 16 38 17 37 30 21 ...\n",
      " $ Top25perc  : num  52 29 50 89 44 62 45 68 63 44 ...\n",
      " $ F.Undergrad: num  2885 2683 1036 510 249 ...\n",
      " $ P.Undergrad: num  537 1227 99 63 869 ...\n",
      " $ Outstate   : num  7440 12280 11250 12960 7560 ...\n",
      " $ Room.Board : num  3300 6450 3750 5450 4120 ...\n",
      " $ Books      : num  450 750 400 450 800 500 500 450 300 660 ...\n",
      " $ Personal   : num  2200 1500 1165 875 1500 ...\n",
      " $ PhD        : num  70 29 53 92 76 67 90 89 79 40 ...\n",
      " $ Terminal   : num  78 30 66 97 72 73 93 100 84 41 ...\n",
      " $ S.F.Ratio  : num  18.1 12.2 12.9 7.7 11.9 9.4 11.5 13.7 11.3 11.5 ...\n",
      " $ perc.alumni: num  12 16 30 37 2 11 26 37 23 15 ...\n",
      " $ Expend     : num  7041 10527 8735 19016 10922 ...\n",
      " $ Grad.Rate  : num  60 56 54 59 15 55 63 73 80 52 ...\n"
     ]
    }
   ],
   "source": [
    "library(ISLR)\n",
    "str(College)"
   ]
  },
  {
   "cell_type": "code",
   "execution_count": 68,
   "id": "3e042f1b",
   "metadata": {},
   "outputs": [],
   "source": [
    "train = sample(1:dim(College)[1], dim(College)[1] / 2)\n",
    "test <- -train\n",
    "CollegeTrain <- College[train, ]\n",
    "CollegeTest <- College[test, ]"
   ]
  },
  {
   "cell_type": "code",
   "execution_count": 39,
   "id": "d0ef1dca",
   "metadata": {},
   "outputs": [
    {
     "data": {
      "text/html": [
       "1717609.67326572"
      ],
      "text/latex": [
       "1717609.67326572"
      ],
      "text/markdown": [
       "1717609.67326572"
      ],
      "text/plain": [
       "[1] 1717610"
      ]
     },
     "metadata": {},
     "output_type": "display_data"
    }
   ],
   "source": [
    "#b)\n",
    "\n",
    "fit <- lm(Apps ~ ., data = CollegeTrain)\n",
    "pred  <- predict(fit.lm, CollegeTest)\n",
    "mean((pred.lm - College.test$Apps)^2)"
   ]
  },
  {
   "cell_type": "code",
   "execution_count": 47,
   "id": "5fb76d4c",
   "metadata": {},
   "outputs": [],
   "source": [
    "library(glmnet)"
   ]
  },
  {
   "cell_type": "code",
   "execution_count": 52,
   "id": "6a6a579d",
   "metadata": {},
   "outputs": [],
   "source": [
    "trainMatr <- model.matrix(Apps ~ ., data = College.train)\n",
    "testMatr <- model.matrix(Apps ~ ., data = College.test)"
   ]
  },
  {
   "cell_type": "code",
   "execution_count": 55,
   "id": "794b04d0",
   "metadata": {},
   "outputs": [],
   "source": [
    "grid <- 10 ^ seq(4, -2, length = 100)"
   ]
  },
  {
   "cell_type": "code",
   "execution_count": 57,
   "id": "4d9e88c3",
   "metadata": {},
   "outputs": [
    {
     "data": {
      "text/html": [
       "28.480358684358"
      ],
      "text/latex": [
       "28.480358684358"
      ],
      "text/markdown": [
       "28.480358684358"
      ],
      "text/plain": [
       "[1] 28.48036"
      ]
     },
     "metadata": {},
     "output_type": "display_data"
    }
   ],
   "source": [
    "fit <- glmnet(train.mat, College.train$Apps, alpha = 0, lambda = grid, thresh = 1e-12)\n",
    "CV <- cv.glmnet(train.mat, College.train$Apps, alpha = 0, lambda = grid, thresh = 1e-12)\n",
    "lambda_best <- cv.ridge$lambda.min\n",
    "lambda_best"
   ]
  },
  {
   "cell_type": "code",
   "execution_count": 59,
   "id": "7425f20f",
   "metadata": {},
   "outputs": [
    {
     "data": {
      "text/html": [
       "<table class=\"dataframe\">\n",
       "<caption>A matrix: 389 × 1 of type dbl</caption>\n",
       "<thead>\n",
       "\t<tr><th></th><th scope=col>s1</th></tr>\n",
       "</thead>\n",
       "<tbody>\n",
       "\t<tr><th scope=row>Agnes Scott College</th><td> 1869.67515</td></tr>\n",
       "\t<tr><th scope=row>Albertson College</th><td>  779.20842</td></tr>\n",
       "\t<tr><th scope=row>Albion College</th><td> 2376.86371</td></tr>\n",
       "\t<tr><th scope=row>Albright College</th><td> 1293.64396</td></tr>\n",
       "\t<tr><th scope=row>Alfred University</th><td> 1982.47405</td></tr>\n",
       "\t<tr><th scope=row>Allegheny College</th><td> 2654.21049</td></tr>\n",
       "\t<tr><th scope=row>Alverno College</th><td>  446.67011</td></tr>\n",
       "\t<tr><th scope=row>Amherst College</th><td> 3414.94098</td></tr>\n",
       "\t<tr><th scope=row>Anderson University</th><td> 1154.51819</td></tr>\n",
       "\t<tr><th scope=row>Andrews University</th><td>  778.58199</td></tr>\n",
       "\t<tr><th scope=row>Angelo State University</th><td> 2951.06740</td></tr>\n",
       "\t<tr><th scope=row>Antioch University</th><td> 3471.82474</td></tr>\n",
       "\t<tr><th scope=row>Aquinas College</th><td>  393.75126</td></tr>\n",
       "\t<tr><th scope=row>Arizona State University Main campus</th><td>13643.91248</td></tr>\n",
       "\t<tr><th scope=row>Augsburg College</th><td>  320.44644</td></tr>\n",
       "\t<tr><th scope=row>Averett College</th><td>  415.24764</td></tr>\n",
       "\t<tr><th scope=row>Baker University</th><td>  395.83155</td></tr>\n",
       "\t<tr><th scope=row>Baldwin-Wallace College</th><td> 2198.54102</td></tr>\n",
       "\t<tr><th scope=row>Bard College</th><td> 1714.73873</td></tr>\n",
       "\t<tr><th scope=row>Baylor University</th><td> 7198.01704</td></tr>\n",
       "\t<tr><th scope=row>Beaver College</th><td> 1037.72601</td></tr>\n",
       "\t<tr><th scope=row>Belmont Abbey College</th><td>  273.51575</td></tr>\n",
       "\t<tr><th scope=row>Bennington College</th><td>  671.64919</td></tr>\n",
       "\t<tr><th scope=row>Bentley College</th><td> 3031.48655</td></tr>\n",
       "\t<tr><th scope=row>Berry College</th><td> 1932.63795</td></tr>\n",
       "\t<tr><th scope=row>Bethany College</th><td>  476.88432</td></tr>\n",
       "\t<tr><th scope=row>Bethune Cookman College</th><td> 1361.38643</td></tr>\n",
       "\t<tr><th scope=row>Birmingham-Southern College</th><td> 1799.64422</td></tr>\n",
       "\t<tr><th scope=row>Blackburn College</th><td>   94.42249</td></tr>\n",
       "\t<tr><th scope=row>Bloomsburg Univ. of Pennsylvania</th><td> 4201.24315</td></tr>\n",
       "\t<tr><th scope=row>⋮</th><td>⋮</td></tr>\n",
       "\t<tr><th scope=row>University of Wyoming</th><td> 2738.7315</td></tr>\n",
       "\t<tr><th scope=row>Upper Iowa University</th><td>   70.1387</td></tr>\n",
       "\t<tr><th scope=row>Vassar College</th><td> 3480.9622</td></tr>\n",
       "\t<tr><th scope=row>Villanova University</th><td> 7260.3410</td></tr>\n",
       "\t<tr><th scope=row>Virginia Tech</th><td>15288.8744</td></tr>\n",
       "\t<tr><th scope=row>Virginia Union University</th><td> 1426.4248</td></tr>\n",
       "\t<tr><th scope=row>Voorhees College</th><td> 1163.1426</td></tr>\n",
       "\t<tr><th scope=row>Wagner College</th><td> 1019.8240</td></tr>\n",
       "\t<tr><th scope=row>Washington and Lee University</th><td> 2954.9799</td></tr>\n",
       "\t<tr><th scope=row>Washington College</th><td> 1238.6536</td></tr>\n",
       "\t<tr><th scope=row>Washington University</th><td>10294.5239</td></tr>\n",
       "\t<tr><th scope=row>Wayne State College</th><td> 1901.4020</td></tr>\n",
       "\t<tr><th scope=row>Waynesburg College</th><td>  923.4344</td></tr>\n",
       "\t<tr><th scope=row>Webster University</th><td>  488.3240</td></tr>\n",
       "\t<tr><th scope=row>Wellesley College</th><td> 3913.1110</td></tr>\n",
       "\t<tr><th scope=row>Wesley College</th><td> 1045.9047</td></tr>\n",
       "\t<tr><th scope=row>West Chester University of Penn.</th><td> 4568.7998</td></tr>\n",
       "\t<tr><th scope=row>West Virginia Wesleyan College</th><td> 1553.8253</td></tr>\n",
       "\t<tr><th scope=row>Western Carolina University</th><td> 3420.7781</td></tr>\n",
       "\t<tr><th scope=row>Western Washington University</th><td> 5247.9664</td></tr>\n",
       "\t<tr><th scope=row>Westmont College</th><td> 2111.2871</td></tr>\n",
       "\t<tr><th scope=row>Westminster College PA</th><td> 2429.7825</td></tr>\n",
       "\t<tr><th scope=row>Whitman College</th><td> 1692.8894</td></tr>\n",
       "\t<tr><th scope=row>Willamette University</th><td> 2010.5560</td></tr>\n",
       "\t<tr><th scope=row>William Jewell College</th><td>  436.3940</td></tr>\n",
       "\t<tr><th scope=row>William Woods University</th><td>  217.0465</td></tr>\n",
       "\t<tr><th scope=row>Wittenberg University</th><td> 2494.8345</td></tr>\n",
       "\t<tr><th scope=row>Wofford College</th><td> 1357.0029</td></tr>\n",
       "\t<tr><th scope=row>Yale University</th><td> 7628.2692</td></tr>\n",
       "\t<tr><th scope=row>York College of Pennsylvania</th><td> 2618.0903</td></tr>\n",
       "</tbody>\n",
       "</table>\n"
      ],
      "text/latex": [
       "A matrix: 389 × 1 of type dbl\n",
       "\\begin{tabular}{r|l}\n",
       "  & s1\\\\\n",
       "\\hline\n",
       "\tAgnes Scott College &  1869.67515\\\\\n",
       "\tAlbertson College &   779.20842\\\\\n",
       "\tAlbion College &  2376.86371\\\\\n",
       "\tAlbright College &  1293.64396\\\\\n",
       "\tAlfred University &  1982.47405\\\\\n",
       "\tAllegheny College &  2654.21049\\\\\n",
       "\tAlverno College &   446.67011\\\\\n",
       "\tAmherst College &  3414.94098\\\\\n",
       "\tAnderson University &  1154.51819\\\\\n",
       "\tAndrews University &   778.58199\\\\\n",
       "\tAngelo State University &  2951.06740\\\\\n",
       "\tAntioch University &  3471.82474\\\\\n",
       "\tAquinas College &   393.75126\\\\\n",
       "\tArizona State University Main campus & 13643.91248\\\\\n",
       "\tAugsburg College &   320.44644\\\\\n",
       "\tAverett College &   415.24764\\\\\n",
       "\tBaker University &   395.83155\\\\\n",
       "\tBaldwin-Wallace College &  2198.54102\\\\\n",
       "\tBard College &  1714.73873\\\\\n",
       "\tBaylor University &  7198.01704\\\\\n",
       "\tBeaver College &  1037.72601\\\\\n",
       "\tBelmont Abbey College &   273.51575\\\\\n",
       "\tBennington College &   671.64919\\\\\n",
       "\tBentley College &  3031.48655\\\\\n",
       "\tBerry College &  1932.63795\\\\\n",
       "\tBethany College &   476.88432\\\\\n",
       "\tBethune Cookman College &  1361.38643\\\\\n",
       "\tBirmingham-Southern College &  1799.64422\\\\\n",
       "\tBlackburn College &    94.42249\\\\\n",
       "\tBloomsburg Univ. of Pennsylvania &  4201.24315\\\\\n",
       "\t⋮ & ⋮\\\\\n",
       "\tUniversity of Wyoming &  2738.7315\\\\\n",
       "\tUpper Iowa University &    70.1387\\\\\n",
       "\tVassar College &  3480.9622\\\\\n",
       "\tVillanova University &  7260.3410\\\\\n",
       "\tVirginia Tech & 15288.8744\\\\\n",
       "\tVirginia Union University &  1426.4248\\\\\n",
       "\tVoorhees College &  1163.1426\\\\\n",
       "\tWagner College &  1019.8240\\\\\n",
       "\tWashington and Lee University &  2954.9799\\\\\n",
       "\tWashington College &  1238.6536\\\\\n",
       "\tWashington University & 10294.5239\\\\\n",
       "\tWayne State College &  1901.4020\\\\\n",
       "\tWaynesburg College &   923.4344\\\\\n",
       "\tWebster University &   488.3240\\\\\n",
       "\tWellesley College &  3913.1110\\\\\n",
       "\tWesley College &  1045.9047\\\\\n",
       "\tWest Chester University of Penn. &  4568.7998\\\\\n",
       "\tWest Virginia Wesleyan College &  1553.8253\\\\\n",
       "\tWestern Carolina University &  3420.7781\\\\\n",
       "\tWestern Washington University &  5247.9664\\\\\n",
       "\tWestmont College &  2111.2871\\\\\n",
       "\tWestminster College PA &  2429.7825\\\\\n",
       "\tWhitman College &  1692.8894\\\\\n",
       "\tWillamette University &  2010.5560\\\\\n",
       "\tWilliam Jewell College &   436.3940\\\\\n",
       "\tWilliam Woods University &   217.0465\\\\\n",
       "\tWittenberg University &  2494.8345\\\\\n",
       "\tWofford College &  1357.0029\\\\\n",
       "\tYale University &  7628.2692\\\\\n",
       "\tYork College of Pennsylvania &  2618.0903\\\\\n",
       "\\end{tabular}\n"
      ],
      "text/markdown": [
       "\n",
       "A matrix: 389 × 1 of type dbl\n",
       "\n",
       "| <!--/--> | s1 |\n",
       "|---|---|\n",
       "| Agnes Scott College |  1869.67515 |\n",
       "| Albertson College |   779.20842 |\n",
       "| Albion College |  2376.86371 |\n",
       "| Albright College |  1293.64396 |\n",
       "| Alfred University |  1982.47405 |\n",
       "| Allegheny College |  2654.21049 |\n",
       "| Alverno College |   446.67011 |\n",
       "| Amherst College |  3414.94098 |\n",
       "| Anderson University |  1154.51819 |\n",
       "| Andrews University |   778.58199 |\n",
       "| Angelo State University |  2951.06740 |\n",
       "| Antioch University |  3471.82474 |\n",
       "| Aquinas College |   393.75126 |\n",
       "| Arizona State University Main campus | 13643.91248 |\n",
       "| Augsburg College |   320.44644 |\n",
       "| Averett College |   415.24764 |\n",
       "| Baker University |   395.83155 |\n",
       "| Baldwin-Wallace College |  2198.54102 |\n",
       "| Bard College |  1714.73873 |\n",
       "| Baylor University |  7198.01704 |\n",
       "| Beaver College |  1037.72601 |\n",
       "| Belmont Abbey College |   273.51575 |\n",
       "| Bennington College |   671.64919 |\n",
       "| Bentley College |  3031.48655 |\n",
       "| Berry College |  1932.63795 |\n",
       "| Bethany College |   476.88432 |\n",
       "| Bethune Cookman College |  1361.38643 |\n",
       "| Birmingham-Southern College |  1799.64422 |\n",
       "| Blackburn College |    94.42249 |\n",
       "| Bloomsburg Univ. of Pennsylvania |  4201.24315 |\n",
       "| ⋮ | ⋮ |\n",
       "| University of Wyoming |  2738.7315 |\n",
       "| Upper Iowa University |    70.1387 |\n",
       "| Vassar College |  3480.9622 |\n",
       "| Villanova University |  7260.3410 |\n",
       "| Virginia Tech | 15288.8744 |\n",
       "| Virginia Union University |  1426.4248 |\n",
       "| Voorhees College |  1163.1426 |\n",
       "| Wagner College |  1019.8240 |\n",
       "| Washington and Lee University |  2954.9799 |\n",
       "| Washington College |  1238.6536 |\n",
       "| Washington University | 10294.5239 |\n",
       "| Wayne State College |  1901.4020 |\n",
       "| Waynesburg College |   923.4344 |\n",
       "| Webster University |   488.3240 |\n",
       "| Wellesley College |  3913.1110 |\n",
       "| Wesley College |  1045.9047 |\n",
       "| West Chester University of Penn. |  4568.7998 |\n",
       "| West Virginia Wesleyan College |  1553.8253 |\n",
       "| Western Carolina University |  3420.7781 |\n",
       "| Western Washington University |  5247.9664 |\n",
       "| Westmont College |  2111.2871 |\n",
       "| Westminster College PA |  2429.7825 |\n",
       "| Whitman College |  1692.8894 |\n",
       "| Willamette University |  2010.5560 |\n",
       "| William Jewell College |   436.3940 |\n",
       "| William Woods University |   217.0465 |\n",
       "| Wittenberg University |  2494.8345 |\n",
       "| Wofford College |  1357.0029 |\n",
       "| Yale University |  7628.2692 |\n",
       "| York College of Pennsylvania |  2618.0903 |\n",
       "\n"
      ],
      "text/plain": [
       "                                     s1         \n",
       "Agnes Scott College                   1869.67515\n",
       "Albertson College                      779.20842\n",
       "Albion College                        2376.86371\n",
       "Albright College                      1293.64396\n",
       "Alfred University                     1982.47405\n",
       "Allegheny College                     2654.21049\n",
       "Alverno College                        446.67011\n",
       "Amherst College                       3414.94098\n",
       "Anderson University                   1154.51819\n",
       "Andrews University                     778.58199\n",
       "Angelo State University               2951.06740\n",
       "Antioch University                    3471.82474\n",
       "Aquinas College                        393.75126\n",
       "Arizona State University Main campus 13643.91248\n",
       "Augsburg College                       320.44644\n",
       "Averett College                        415.24764\n",
       "Baker University                       395.83155\n",
       "Baldwin-Wallace College               2198.54102\n",
       "Bard College                          1714.73873\n",
       "Baylor University                     7198.01704\n",
       "Beaver College                        1037.72601\n",
       "Belmont Abbey College                  273.51575\n",
       "Bennington College                     671.64919\n",
       "Bentley College                       3031.48655\n",
       "Berry College                         1932.63795\n",
       "Bethany College                        476.88432\n",
       "Bethune Cookman College               1361.38643\n",
       "Birmingham-Southern College           1799.64422\n",
       "Blackburn College                       94.42249\n",
       "Bloomsburg Univ. of Pennsylvania      4201.24315\n",
       "<U+22EE>                                    <U+22EE>   \n",
       "University of Wyoming                 2738.7315 \n",
       "Upper Iowa University                   70.1387 \n",
       "Vassar College                        3480.9622 \n",
       "Villanova University                  7260.3410 \n",
       "Virginia Tech                        15288.8744 \n",
       "Virginia Union University             1426.4248 \n",
       "Voorhees College                      1163.1426 \n",
       "Wagner College                        1019.8240 \n",
       "Washington and Lee University         2954.9799 \n",
       "Washington College                    1238.6536 \n",
       "Washington University                10294.5239 \n",
       "Wayne State College                   1901.4020 \n",
       "Waynesburg College                     923.4344 \n",
       "Webster University                     488.3240 \n",
       "Wellesley College                     3913.1110 \n",
       "Wesley College                        1045.9047 \n",
       "West Chester University of Penn.      4568.7998 \n",
       "West Virginia Wesleyan College        1553.8253 \n",
       "Western Carolina University           3420.7781 \n",
       "Western Washington University         5247.9664 \n",
       "Westmont College                      2111.2871 \n",
       "Westminster College PA                2429.7825 \n",
       "Whitman College                       1692.8894 \n",
       "Willamette University                 2010.5560 \n",
       "William Jewell College                 436.3940 \n",
       "William Woods University               217.0465 \n",
       "Wittenberg University                 2494.8345 \n",
       "Wofford College                       1357.0029 \n",
       "Yale University                       7628.2692 \n",
       "York College of Pennsylvania          2618.0903 "
      ]
     },
     "metadata": {},
     "output_type": "display_data"
    },
    {
     "ename": "ERROR",
     "evalue": "Error in h(simpleError(msg, call)): error in evaluating the argument 'x' in selecting a method for function 'mean': object 'pred.ridge' not found\n",
     "output_type": "error",
     "traceback": [
      "Error in h(simpleError(msg, call)): error in evaluating the argument 'x' in selecting a method for function 'mean': object 'pred.ridge' not found\nTraceback:\n",
      "1. mean((pred.ridge - College.test$Apps)^2)",
      "2. .handleSimpleError(function (cond) \n . .Internal(C_tryCatchHelper(addr, 1L, cond)), \"object 'pred.ridge' not found\", \n .     base::quote(mean((pred.ridge - College.test$Apps)^2)))",
      "3. h(simpleError(msg, call))"
     ]
    }
   ],
   "source": [
    "predict(fit, s = lambda_best, newx = test.mat)\n",
    "mean((pred.ridge - College.test$Apps)^2)"
   ]
  },
  {
   "cell_type": "code",
   "execution_count": 63,
   "id": "b933c625",
   "metadata": {},
   "outputs": [
    {
     "data": {
      "text/html": [
       "4.64158883361278"
      ],
      "text/latex": [
       "4.64158883361278"
      ],
      "text/markdown": [
       "4.64158883361278"
      ],
      "text/plain": [
       "[1] 4.641589"
      ]
     },
     "metadata": {},
     "output_type": "display_data"
    }
   ],
   "source": [
    "#d)\n",
    "\n",
    "lasso <- glmnet(train.mat, College.train$Apps, alpha = 1, lambda = grid, thresh = 1e-12)\n",
    "cv_lasso <- cv.glmnet(train.mat, College.train$Apps, alpha = 1, lambda = grid, thresh = 1e-12)\n",
    "lambda_best_lasso <- cv.lasso$lambda.min\n",
    "lambda_best_lasso"
   ]
  },
  {
   "cell_type": "code",
   "execution_count": 71,
   "id": "2f92b7be",
   "metadata": {},
   "outputs": [],
   "source": [
    "pred <- predict(lasso, s = lambda_best_lasso, newx = testMatr)"
   ]
  },
  {
   "cell_type": "code",
   "execution_count": 75,
   "id": "f724a8fc",
   "metadata": {},
   "outputs": [
    {
     "data": {
      "text/html": [
       "26052910.7708794"
      ],
      "text/latex": [
       "26052910.7708794"
      ],
      "text/markdown": [
       "26052910.7708794"
      ],
      "text/plain": [
       "[1] 26052911"
      ]
     },
     "metadata": {},
     "output_type": "display_data"
    }
   ],
   "source": [
    "mean((pred - CollegeTest$Apps)^2)"
   ]
  },
  {
   "cell_type": "code",
   "execution_count": 77,
   "id": "fb082d16",
   "metadata": {},
   "outputs": [
    {
     "data": {
      "text/plain": [
       "19 x 1 sparse Matrix of class \"dgCMatrix\"\n",
       "                       s1\n",
       "(Intercept) -380.70814377\n",
       "(Intercept)    .         \n",
       "PrivateYes  -611.07246526\n",
       "Accept         1.15156912\n",
       "Enroll         0.12455233\n",
       "Top10perc     33.41404955\n",
       "Top25perc     -8.69961202\n",
       "F.Undergrad    0.04273565\n",
       "P.Undergrad    0.03172053\n",
       "Outstate      -0.06100715\n",
       "Room.Board     0.10328059\n",
       "Books         -0.02786438\n",
       "Personal      -0.09615777\n",
       "PhD           -7.98211239\n",
       "Terminal      -0.68742662\n",
       "S.F.Ratio     12.35372246\n",
       "perc.alumni   -5.11658651\n",
       "Expend         0.09385890\n",
       "Grad.Rate     10.80708469"
      ]
     },
     "metadata": {},
     "output_type": "display_data"
    }
   ],
   "source": [
    "predict(fit, s = lambda_best_lasso, type = \"coefficients\")"
   ]
  },
  {
   "cell_type": "code",
   "execution_count": 80,
   "id": "e79d01b4",
   "metadata": {},
   "outputs": [
    {
     "name": "stdout",
     "output_type": "stream",
     "text": [
      "package 'pls' successfully unpacked and MD5 sums checked\n",
      "\n",
      "The downloaded binary packages are in\n",
      "\tC:\\Users\\anakib\\AppData\\Local\\Temp\\RtmpiGDvEz\\downloaded_packages\n"
     ]
    },
    {
     "name": "stderr",
     "output_type": "stream",
     "text": [
      "\n",
      "Attaching package: 'pls'\n",
      "\n",
      "\n",
      "The following object is masked from 'package:stats':\n",
      "\n",
      "    loadings\n",
      "\n",
      "\n"
     ]
    }
   ],
   "source": [
    "install.packages(\"pls\")\n",
    "library(pls)"
   ]
  },
  {
   "cell_type": "code",
   "execution_count": 82,
   "id": "f804e6a2",
   "metadata": {},
   "outputs": [
    {
     "data": {
      "image/png": "[encoded data removed]",
      "text/plain": [
       "Plot with title \"Apps\""
      ]
     },
     "metadata": {
      "image/png": {
       "height": 420,
       "width": 420
      }
     },
     "output_type": "display_data"
    }
   ],
   "source": [
    "fit.pcr <- pcr(Apps ~ ., data = College.train, scale = TRUE, validation = \"CV\")\n",
    "validationplot(fit.pcr, val.type = \"MSEP\")"
   ]
  },
  {
   "cell_type": "markdown",
   "id": "322ec319",
   "metadata": {},
   "source": [
    "# chapter 7 question 9 "
   ]
  },
  {
   "cell_type": "code",
   "execution_count": 84,
   "id": "f709534e",
   "metadata": {},
   "outputs": [
    {
     "name": "stdout",
     "output_type": "stream",
     "text": [
      "'data.frame':\t506 obs. of  14 variables:\n",
      " $ crim   : num  0.00632 0.02731 0.02729 0.03237 0.06905 ...\n",
      " $ zn     : num  18 0 0 0 0 0 12.5 12.5 12.5 12.5 ...\n",
      " $ indus  : num  2.31 7.07 7.07 2.18 2.18 2.18 7.87 7.87 7.87 7.87 ...\n",
      " $ chas   : int  0 0 0 0 0 0 0 0 0 0 ...\n",
      " $ nox    : num  0.538 0.469 0.469 0.458 0.458 0.458 0.524 0.524 0.524 0.524 ...\n",
      " $ rm     : num  6.58 6.42 7.18 7 7.15 ...\n",
      " $ age    : num  65.2 78.9 61.1 45.8 54.2 58.7 66.6 96.1 100 85.9 ...\n",
      " $ dis    : num  4.09 4.97 4.97 6.06 6.06 ...\n",
      " $ rad    : int  1 2 2 3 3 3 5 5 5 5 ...\n",
      " $ tax    : num  296 242 242 222 222 222 311 311 311 311 ...\n",
      " $ ptratio: num  15.3 17.8 17.8 18.7 18.7 18.7 15.2 15.2 15.2 15.2 ...\n",
      " $ black  : num  397 397 393 395 397 ...\n",
      " $ lstat  : num  4.98 9.14 4.03 2.94 5.33 ...\n",
      " $ medv   : num  24 21.6 34.7 33.4 36.2 28.7 22.9 27.1 16.5 18.9 ...\n"
     ]
    }
   ],
   "source": [
    "library(MASS)\n",
    "str(Boston)"
   ]
  },
  {
   "cell_type": "code",
   "execution_count": 88,
   "id": "00883056",
   "metadata": {},
   "outputs": [
    {
     "data": {
      "text/plain": [
       "\n",
       "Call:\n",
       "lm(formula = nox ~ poly(dis, d = 3), data = Boston)\n",
       "\n",
       "Residuals:\n",
       "      Min        1Q    Median        3Q       Max \n",
       "-0.121130 -0.040619 -0.009738  0.023385  0.194904 \n",
       "\n",
       "Coefficients:\n",
       "                   Estimate Std. Error t value Pr(>|t|)    \n",
       "(Intercept)        0.554695   0.002759 201.021  < 2e-16 ***\n",
       "poly(dis, d = 3)1 -2.003096   0.062071 -32.271  < 2e-16 ***\n",
       "poly(dis, d = 3)2  0.856330   0.062071  13.796  < 2e-16 ***\n",
       "poly(dis, d = 3)3 -0.318049   0.062071  -5.124 4.27e-07 ***\n",
       "---\n",
       "Signif. codes:  0 '***' 0.001 '**' 0.01 '*' 0.05 '.' 0.1 ' ' 1\n",
       "\n",
       "Residual standard error: 0.06207 on 502 degrees of freedom\n",
       "Multiple R-squared:  0.7148,\tAdjusted R-squared:  0.7131 \n",
       "F-statistic: 419.3 on 3 and 502 DF,  p-value: < 2.2e-16\n"
      ]
     },
     "metadata": {},
     "output_type": "display_data"
    },
    {
     "data": {
      "image/png": "[encoded data removed]",
      "text/plain": [
       "plot without title"
      ]
     },
     "metadata": {
      "image/png": {
       "height": 420,
       "width": 420
      }
     },
     "output_type": "display_data"
    },
    {
     "data": {
      "image/png": "[encoded data removed]",
      "text/plain": [
       "Plot with title \"\""
      ]
     },
     "metadata": {
      "image/png": {
       "height": 420,
       "width": 420
      }
     },
     "output_type": "display_data"
    },
    {
     "data": {
      "image/png": "[encoded data removed]",
      "text/plain": [
       "Plot with title \"\""
      ]
     },
     "metadata": {
      "image/png": {
       "height": 420,
       "width": 420
      }
     },
     "output_type": "display_data"
    },
    {
     "data": {
      "image/png": "[encoded data removed]",
      "text/plain": [
       "Plot with title \"\""
      ]
     },
     "metadata": {
      "image/png": {
       "height": 420,
       "width": 420
      }
     },
     "output_type": "display_data"
    },
    {
     "data": {
      "image/png": "[encoded data removed]",
      "text/plain": [
       "Plot with title \"\""
      ]
     },
     "metadata": {
      "image/png": {
       "height": 420,
       "width": 420
      }
     },
     "output_type": "display_data"
    }
   ],
   "source": [
    "#part a\n",
    "lr.model <- lm(nox ~ poly(dis, d=3), data=Boston)\n",
    "summary(lr.model)\n",
    "plot(Boston$nox ~ Boston$dis, xlab='dis', ylab='nox')\n",
    "lines(sort(Boston$dis), fitted(lr.model)[order(Boston$dis)], col='blue', type='l',lw=3)\n",
    "plot(lr.model)"
   ]
  },
  {
   "cell_type": "code",
   "execution_count": null,
   "id": "08e6b542",
   "metadata": {},
   "outputs": [],
   "source": []
  },
  {
   "cell_type": "code",
   "execution_count": null,
   "id": "90bc5a54",
   "metadata": {},
   "outputs": [],
   "source": []
  }
 ],
 "metadata": {
  "kernelspec": {
   "display_name": "R",
   "language": "R",
   "name": "ir"
  },
  "language_info": {
   "codemirror_mode": "r",
   "file_extension": ".r",
   "mimetype": "text/x-r-source",
   "name": "R",
   "pygments_lexer": "r",
   "version": "4.0.5"
  }
 },
 "nbformat": 4,
 "nbformat_minor": 5
}
